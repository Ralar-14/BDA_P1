{
 "cells": [
  {
   "cell_type": "markdown",
   "metadata": {},
   "source": [
    "# Large-Scale Data Engineering for AI\n",
    "## The Data Engineering Pipeline\n",
    "### The Landing Zone"
   ]
  },
  {
   "cell_type": "code",
   "execution_count": 8,
   "metadata": {},
   "outputs": [],
   "source": [
    "# Imports and requirements\n",
    "import os\n",
    "import datetime\n",
    "import kaggle\n",
    "import shutil\n",
    "import pandas as pd"
   ]
  },
  {
   "cell_type": "code",
   "execution_count": 5,
   "metadata": {},
   "outputs": [
    {
     "name": "stdout",
     "output_type": "stream",
     "text": [
      "Warning: Your Kaggle API key is readable by other users on this system! To fix this, you can run 'chmod 600 /home/violeta/.config/kaggle/kaggle.json'\n"
     ]
    }
   ],
   "source": [
    "# Base directory and Landing Zone directory structure\n",
    "BASE_DIR = \"./data\"\n",
    "LANDING_ZONE_DIR = os.path.join(BASE_DIR, \"landing_zone\")\n",
    "os.makedirs(LANDING_ZONE_DIR, exist_ok=True)\n",
    "\n",
    "kaggle.api.authenticate()\n",
    "\n",
    "# List of datasets to ingest from Kaggle\n",
    "datasets = [\n",
    "        {\n",
    "            \"kaggle_id\": \"asaniczka/top-spotify-songs-in-73-countries-daily-updated\",\n",
    "            \"dataset_name\": \"top-spotify-songs-by-country\",\n",
    "            \"update\": True\n",
    "        },\n",
    "        {\n",
    "            \"kaggle_id\": \"maharshipandya/-spotify-tracks-dataset\",\n",
    "            \"dataset_name\": \"spotify-tracks-dataset\",\n",
    "            \"update\": False\n",
    "        },\n",
    "        {\n",
    "            \"kaggle_id\": \"terminate9298/songs-lyrics\",\n",
    "            \"dataset_name\": \"songs-lyrics\",\n",
    "            \"update\": False\n",
    "        }\n",
    "        ]"
   ]
  },
  {
   "cell_type": "code",
   "execution_count": 9,
   "metadata": {},
   "outputs": [
    {
     "name": "stdout",
     "output_type": "stream",
     "text": [
      "[2025-04-11 18:49:26] Starting the creation of the Landing Zone using Kaggle API\n",
      "[2025-04-11 18:49:26] Downloading dataset: asaniczka/top-spotify-songs-in-73-countries-daily-updated\n",
      "Dataset URL: https://www.kaggle.com/datasets/asaniczka/top-spotify-songs-in-73-countries-daily-updated\n",
      "[2025-04-11 18:49:45] CSV 'universal_top_spotify_songs.csv' converted to single Parquet file and saved as './data/landing_zone/top-spotify-songs-by-country.parquet'.\n",
      "[2025-04-11 18:49:46] Dataset 'top-spotify-songs-by-country' downloaded successfully.\n",
      "[2025-04-11 18:49:46] Dataset 'top-spotify-songs-by-country' processed successfully.\n",
      "[2025-04-11 18:49:46] Downloading dataset: maharshipandya/-spotify-tracks-dataset\n",
      "Dataset URL: https://www.kaggle.com/datasets/maharshipandya/-spotify-tracks-dataset\n",
      "[2025-04-11 18:49:48] CSV 'dataset.csv' converted to single Parquet file and saved as './data/landing_zone/spotify-tracks-dataset.parquet'.\n",
      "[2025-04-11 18:49:48] Dataset 'spotify-tracks-dataset' downloaded successfully.\n",
      "[2025-04-11 18:49:48] Dataset 'spotify-tracks-dataset' processed successfully.\n",
      "[2025-04-11 18:49:48] Downloading dataset: terminate9298/songs-lyrics\n",
      "Dataset URL: https://www.kaggle.com/datasets/terminate9298/songs-lyrics\n",
      "[2025-04-11 18:49:50] CSV 'lyrics.csv' converted to single Parquet file and saved as './data/landing_zone/songs-lyrics.parquet'.\n",
      "[2025-04-11 18:49:50] Dataset 'songs-lyrics' downloaded successfully.\n",
      "[2025-04-11 18:49:50] Dataset 'songs-lyrics' processed successfully.\n",
      "[2025-04-11 18:49:50] All datasets have been processed.\n",
      "[2025-04-11 18:49:50] Landing Zone creation completed.\n"
     ]
    }
   ],
   "source": [
    "# Logging function to timestamp each message\n",
    "def log(message):\n",
    "    print(f\"[{datetime.datetime.now().strftime('%Y-%m-%d %H:%M:%S')}] {message}\")\n",
    "\n",
    "def data_collector_kaggle(kaggle_dataset: dict) -> None:\n",
    "    \"\"\"\n",
    "    Downloads a dataset from Kaggle and saves it to the landing zone.\n",
    "\n",
    "    Parameters:\n",
    "    kaggle_dataset (dict): A dictionary containing the Kaggle dataset information.\n",
    "    \"\"\"\n",
    "\n",
    "    # Extract dataset information\n",
    "    kaggle_id = kaggle_dataset[\"kaggle_id\"]\n",
    "    dataset_name = kaggle_dataset[\"dataset_name\"]\n",
    "\n",
    "    # Create a temporary directory for the dataset using the actual dataset name\n",
    "    dataset_folder = os.path.join(LANDING_ZONE_DIR, f\"temp_{dataset_name}\")\n",
    "    os.makedirs(dataset_folder, exist_ok=True)\n",
    "\n",
    "    try:  \n",
    "        log(f\"Downloading dataset: {kaggle_id}\")\n",
    "\n",
    "        kaggle.api.dataset_download_files(\n",
    "            kaggle_id,\n",
    "            path=dataset_folder,\n",
    "            unzip=True\n",
    "        )\n",
    "\n",
    "        csv_found = False\n",
    "        for filename in os.listdir(dataset_folder):\n",
    "            if filename in ['songs_details.csv', 'album_details.csv']:\n",
    "                continue\n",
    "            if filename.endswith(\".csv\"):\n",
    "                csv_found = True\n",
    "                csv_path = os.path.join(dataset_folder, filename)\n",
    "\n",
    "                # Read CSV with Pandas\n",
    "                df = pd.read_csv(csv_path)\n",
    "\n",
    "                # Write as a single Parquet file\n",
    "                final_path = os.path.join(LANDING_ZONE_DIR, f\"{dataset_name}.parquet\")\n",
    "                df.to_parquet(final_path, index=False)\n",
    "\n",
    "                log(f\"CSV '{filename}' converted to single Parquet file and saved as '{final_path}'.\")\n",
    "                \n",
    "        if not csv_found:\n",
    "            log(f\"No CSV file found in the downloaded dataset. Check the contents of the download.\")\n",
    "            \n",
    "        # Remove the temporary dataset folder\n",
    "        shutil.rmtree(dataset_folder)\n",
    "\n",
    "    except Exception as e:\n",
    "         # Remove the dataset folder if it exists\n",
    "        if os.path.exists(dataset_folder):\n",
    "            shutil.rmtree(dataset_folder)\n",
    "\n",
    "        # Log the error\n",
    "        log(f\"Error downloading dataset '{kaggle_id}': {e}\")\n",
    "       \n",
    "        return\n",
    "\n",
    "    # Log the successful download\n",
    "    log(f\"Dataset '{dataset_name}' downloaded successfully.\")\n",
    "\n",
    "def download_and_store_datasets(update: bool = False) -> None:\n",
    "    \"\"\"\n",
    "    Downloads and stores datasets from Kaggle into the landing zone.\n",
    "    \"\"\"\n",
    "    log(\"Starting the creation of the Landing Zone using Kaggle API\")\n",
    "\n",
    "    for kaggle_dataset in datasets:\n",
    "        if update and not kaggle_dataset[\"update\"]:\n",
    "            log(f\"Skipping dataset '{kaggle_dataset['dataset_name']}' as update is set to False.\")\n",
    "            continue\n",
    "        try:\n",
    "            dataset_name = kaggle_dataset[\"dataset_name\"]\n",
    "            data_collector_kaggle(kaggle_dataset)\n",
    "            log(f\"Dataset '{dataset_name}' processed successfully.\")\n",
    "        except Exception as e:\n",
    "            log(f\"Error processing dataset '{dataset_name}': {e}\")\n",
    "\n",
    "    log(\"All datasets have been processed.\")\n",
    "    log(\"Landing Zone creation completed.\")\n",
    "\n",
    "download_and_store_datasets(update=False)"
   ]
  },
  {
   "cell_type": "markdown",
   "metadata": {},
   "source": [
    "### The Trusted Zone"
   ]
  },
  {
   "cell_type": "code",
   "execution_count": null,
   "metadata": {},
   "outputs": [],
   "source": []
  },
  {
   "cell_type": "markdown",
   "metadata": {},
   "source": [
    "### The Exploitation Zone"
   ]
  },
  {
   "cell_type": "code",
   "execution_count": null,
   "metadata": {},
   "outputs": [],
   "source": []
  },
  {
   "cell_type": "markdown",
   "metadata": {},
   "source": [
    "## The Data Analysis Pipelines"
   ]
  },
  {
   "cell_type": "code",
   "execution_count": null,
   "metadata": {},
   "outputs": [],
   "source": []
  }
 ],
 "metadata": {
  "kernelspec": {
   "display_name": "Python 3",
   "language": "python",
   "name": "python3"
  },
  "language_info": {
   "codemirror_mode": {
    "name": "ipython",
    "version": 3
   },
   "file_extension": ".py",
   "mimetype": "text/x-python",
   "name": "python",
   "nbconvert_exporter": "python",
   "pygments_lexer": "ipython3",
   "version": "3.11.5"
  }
 },
 "nbformat": 4,
 "nbformat_minor": 2
}
