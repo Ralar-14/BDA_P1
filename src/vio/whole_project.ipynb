{
 "cells": [
  {
   "cell_type": "markdown",
   "metadata": {},
   "source": [
    "# Large-Scale Data Engineering for AI\n",
    "Per a fer aquest projecte hem hagafat tres datasets relacionats amb música. Més concretament relacionats amb cançons que te Spotify. A continuació deixem una petita descripció de cadascun:\n",
    "- **song-lyrics** --> conté unes 25000 cançons amb les seves corresponents lletres.\n",
    "- **spotify-tracks-dataset** --> conté cançons d'Spotify de 125 gèneres diferents i altres atributs.\n",
    "- **top-spotify-songs-by-country** --> conté les cançons més populars de 72 països. S'actualitza diàriament.\n",
    "\n",
    "## The Data Engineering Pipeline\n",
    "### The Landing Zone\n",
    "Pel que fa a la landing zone, hem accedit a l'API de Kaggle per a obtenir els datasets. Un pas previ que s'ha de fer per a poder tenir accés és generar un token de Kaggle. Primer has d'entrar en el teu perfil i anar a la configuració, baixant es troba un apartat on hi diu \"Create New Token\" i d'allà es descarregarà un fitxer .json. Hem utilitzat la [guia](https://www.kaggle.com/docs/api#getting-started-installation-&-authentication) d'ús de l'API per aconseguir-ho. S'hauran de fer aquestes comandes:\n",
    "```\n",
    "pip install kaggle\n",
    "mkdir ~/.kaggle\n",
    "mv ~/Downloads/kaggle.json ~/.kaggle/kaggle.json\n",
    "```\n",
    "\n",
    "Un cop ja tenim accés a la API, hem fet una funció recol·lectora de dades per a baixar els tres datasets i guardar-los a l'adreça desitjada. Aquests datasets estan en format .csv i nosaltres hem preferit passar-los a format .parquet. A l'adreça del dataset de les lletres no només hi ha les lletres sinó que hi ha dos datasets més amb informació sobre els àlbums i més informació sobre les cançons. És per això que només ens hem de quedar amb el de lletres. En conclusió, ens baixem el dataset de l'API, el passem a .parquet, el guardem a la carpeta de \"data/landing_zone\". Al llarg d'aquesta execució, es van fent moltes comprovacions, en cas que algun moment falli es tingui proouta informació per trobar l'error."
   ]
  },
  {
   "cell_type": "code",
   "execution_count": null,
   "metadata": {},
   "outputs": [],
   "source": [
    "# Imports and requirements\n",
    "!pip install kaggle\n",
    "!pip install pyspark"
   ]
  },
  {
   "cell_type": "code",
   "execution_count": 1,
   "metadata": {},
   "outputs": [
    {
     "name": "stdout",
     "output_type": "stream",
     "text": [
      "Warning: Your Kaggle API key is readable by other users on this system! To fix this, you can run 'chmod 600 /home/violeta/.config/kaggle/kaggle.json'\n"
     ]
    }
   ],
   "source": [
    "# Imports and requirements\n",
    "import os\n",
    "import datetime\n",
    "import kaggle\n",
    "import pandas as pd"
   ]
  },
  {
   "cell_type": "code",
   "execution_count": 12,
   "metadata": {},
   "outputs": [
    {
     "name": "stdout",
     "output_type": "stream",
     "text": [
      "Warning: Your Kaggle API key is readable by other users on this system! To fix this, you can run 'chmod 600 /home/violeta/.config/kaggle/kaggle.json'\n"
     ]
    }
   ],
   "source": [
    "# Base directory and Landing Zone directory structure\n",
    "BASE_DIR = \"./data\"\n",
    "LANDING_ZONE_DIR = os.path.join(BASE_DIR, \"landing_zone\")\n",
    "os.makedirs(LANDING_ZONE_DIR, exist_ok=True)\n",
    "\n",
    "kaggle.api.authenticate()\n",
    "\n",
    "# List of datasets to ingest from Kaggle\n",
    "datasets = [\n",
    "        {\n",
    "            \"kaggle_id\": \"asaniczka/top-spotify-songs-in-73-countries-daily-updated\",\n",
    "            \"dataset_name\": \"top-spotify-songs-by-country\",\n",
    "            \"update\": True\n",
    "        },\n",
    "        {\n",
    "            \"kaggle_id\": \"maharshipandya/-spotify-tracks-dataset\",\n",
    "            \"dataset_name\": \"spotify-tracks-dataset\",\n",
    "            \"update\": False\n",
    "        },\n",
    "        {\n",
    "            \"kaggle_id\": \"terminate9298/songs-lyrics\",\n",
    "            \"dataset_name\": \"songs-lyrics.csv\",\n",
    "            \"update\": False\n",
    "        }\n",
    "        ]"
   ]
  },
  {
   "cell_type": "code",
   "execution_count": 13,
   "metadata": {},
   "outputs": [
    {
     "name": "stdout",
     "output_type": "stream",
     "text": [
      "[2025-04-12 13:35:09] Starting the creation of the Landing Zone using Kaggle API\n",
      "[2025-04-12 13:35:09] Downloading dataset: asaniczka/top-spotify-songs-in-73-countries-daily-updated\n",
      "Dataset URL: https://www.kaggle.com/datasets/asaniczka/top-spotify-songs-in-73-countries-daily-updated\n",
      "[2025-04-12 13:35:21] CSV 'universal_top_spotify_songs.csv' converted to single Parquet file and saved as './data/landing_zone/top-spotify-songs-by-country.parquet'.\n",
      "[2025-04-12 13:35:21] No CSV file found in the downloaded dataset. Check the contents of the download.\n",
      "[2025-04-12 13:35:21] Dataset 'top-spotify-songs-by-country' downloaded successfully.\n",
      "[2025-04-12 13:35:21] Dataset 'top-spotify-songs-by-country' processed successfully.\n",
      "[2025-04-12 13:35:21] Downloading dataset: maharshipandya/-spotify-tracks-dataset\n",
      "Dataset URL: https://www.kaggle.com/datasets/maharshipandya/-spotify-tracks-dataset\n",
      "[2025-04-12 13:35:23] CSV 'dataset.csv' converted to single Parquet file and saved as './data/landing_zone/spotify-tracks-dataset.parquet'.\n",
      "[2025-04-12 13:35:23] No CSV file found in the downloaded dataset. Check the contents of the download.\n",
      "[2025-04-12 13:35:23] Dataset 'spotify-tracks-dataset' downloaded successfully.\n",
      "[2025-04-12 13:35:23] Dataset 'spotify-tracks-dataset' processed successfully.\n",
      "[2025-04-12 13:35:23] Downloading dataset: terminate9298/songs-lyrics\n",
      "Dataset URL: https://www.kaggle.com/datasets/terminate9298/songs-lyrics\n",
      "[2025-04-12 13:35:25] CSV 'lyrics.csv' converted to single Parquet file and saved as './data/landing_zone/songs-lyrics.csv.parquet'.\n",
      "[2025-04-12 13:35:25] No CSV file found in the downloaded dataset. Check the contents of the download.\n",
      "[2025-04-12 13:35:25] Dataset 'songs-lyrics.csv' downloaded successfully.\n",
      "[2025-04-12 13:35:25] Dataset 'songs-lyrics.csv' processed successfully.\n",
      "[2025-04-12 13:35:25] All datasets have been processed.\n",
      "[2025-04-12 13:35:25] Landing Zone creation completed.\n"
     ]
    }
   ],
   "source": [
    "# Logging function to timestamp each message\n",
    "def log(message):\n",
    "    print(f\"[{datetime.datetime.now().strftime('%Y-%m-%d %H:%M:%S')}] {message}\")\n",
    "\n",
    "def data_collector_kaggle(kaggle_dataset: dict) -> None:\n",
    "    \"\"\"\n",
    "    Downloads a dataset from Kaggle and saves it to the landing zone.\n",
    "\n",
    "    Parameters:\n",
    "    kaggle_dataset (dict): A dictionary containing the Kaggle dataset information.\n",
    "    \"\"\"\n",
    "\n",
    "    # Extract dataset information\n",
    "    kaggle_id = kaggle_dataset[\"kaggle_id\"]\n",
    "    dataset_name = kaggle_dataset[\"dataset_name\"]\n",
    "    \n",
    "    try:  \n",
    "        log(f\"Downloading dataset: {kaggle_id}\")\n",
    "\n",
    "        kaggle.api.dataset_download_files(\n",
    "            kaggle_id,\n",
    "            path=LANDING_ZONE_DIR,\n",
    "            unzip=True\n",
    "        )\n",
    "\n",
    "        csv_found = False\n",
    "        for filename in os.listdir(LANDING_ZONE_DIR):\n",
    "            if filename in ['songs_details.csv', 'album_details.csv']:\n",
    "                os.remove(os.path.join(LANDING_ZONE_DIR, filename))\n",
    "                continue\n",
    "            if filename.endswith(\".csv\"):\n",
    "                csv_path = os.path.join(LANDING_ZONE_DIR, filename)\n",
    "\n",
    "                # Read CSV with Pandas\n",
    "                df = pd.read_csv(csv_path)\n",
    "\n",
    "                # Write Parquet\n",
    "                final_path = os.path.join(LANDING_ZONE_DIR, f\"{dataset_name}.parquet\")\n",
    "                df.to_parquet(final_path, index=False)\n",
    "\n",
    "                log(f\"CSV '{filename}' converted to single Parquet file and saved as '{final_path}'.\")\n",
    "\n",
    "                os.remove(csv_path)\n",
    "                break  # Stop after processing the first valid CSV\n",
    "                        \n",
    "        if not csv_found:\n",
    "            log(f\"No CSV file found in the downloaded dataset. Check the contents of the download.\")\n",
    "\n",
    "    except Exception as e:\n",
    "        # Log the error\n",
    "        log(f\"Error downloading dataset '{kaggle_id}': {e}\")\n",
    "        return\n",
    "\n",
    "    # Log the successful download\n",
    "    log(f\"Dataset '{dataset_name}' downloaded successfully.\")\n",
    "\n",
    "def download_and_store_datasets(update: bool = False) -> None:\n",
    "    \"\"\"\n",
    "    Downloads and stores datasets from Kaggle into the landing zone.\n",
    "    \"\"\"\n",
    "    log(\"Starting the creation of the Landing Zone using Kaggle API\")\n",
    "\n",
    "    for kaggle_dataset in datasets:\n",
    "        if update and not kaggle_dataset[\"update\"]:\n",
    "            log(f\"Skipping dataset '{kaggle_dataset['dataset_name']}' as update is set to False.\")\n",
    "            continue\n",
    "        try:\n",
    "            dataset_name = kaggle_dataset[\"dataset_name\"]\n",
    "            data_collector_kaggle(kaggle_dataset)\n",
    "            log(f\"Dataset '{dataset_name}' processed successfully.\")\n",
    "        except Exception as e:\n",
    "            log(f\"Error processing dataset '{dataset_name}': {e}\")\n",
    "\n",
    "    log(\"All datasets have been processed.\")\n",
    "    log(\"Landing Zone creation completed.\")\n",
    "\n",
    "download_and_store_datasets(update=False)"
   ]
  },
  {
   "cell_type": "markdown",
   "metadata": {},
   "source": [
    "### The Formatted Zone"
   ]
  },
  {
   "cell_type": "code",
   "execution_count": null,
   "metadata": {},
   "outputs": [],
   "source": []
  },
  {
   "cell_type": "markdown",
   "metadata": {},
   "source": [
    "### The Trusted Zone"
   ]
  },
  {
   "cell_type": "code",
   "execution_count": null,
   "metadata": {},
   "outputs": [],
   "source": []
  },
  {
   "cell_type": "markdown",
   "metadata": {},
   "source": [
    "### The Exploitation Zone"
   ]
  },
  {
   "cell_type": "code",
   "execution_count": null,
   "metadata": {},
   "outputs": [],
   "source": []
  },
  {
   "cell_type": "markdown",
   "metadata": {},
   "source": [
    "## The Data Analysis Pipelines"
   ]
  },
  {
   "cell_type": "code",
   "execution_count": null,
   "metadata": {},
   "outputs": [],
   "source": []
  }
 ],
 "metadata": {
  "kernelspec": {
   "display_name": "Python 3",
   "language": "python",
   "name": "python3"
  },
  "language_info": {
   "codemirror_mode": {
    "name": "ipython",
    "version": 3
   },
   "file_extension": ".py",
   "mimetype": "text/x-python",
   "name": "python",
   "nbconvert_exporter": "python",
   "pygments_lexer": "ipython3",
   "version": "3.11.5"
  }
 },
 "nbformat": 4,
 "nbformat_minor": 2
}
